{
 "cells": [
  {
   "cell_type": "markdown",
   "metadata": {},
   "source": [
    "# While Loops, Break and Continue - Lab"
   ]
  },
  {
   "cell_type": "markdown",
   "metadata": {},
   "source": [
    "## Introduction\n",
    "In this lab, we will practice using `while` loops, and `break` and `continue` statements in our code. We will use our control flow statements to iterate through collections and filter out or selectively operate on each element. We'll use `while` loops to perform operations until a given condition is no longer true."
   ]
  },
  {
   "cell_type": "markdown",
   "metadata": {},
   "source": [
    "## Objectives\n",
    "You will be able to:\n",
    "* Use a break and continue statements inside a loop\n",
    "* Understand, explain and use while loops"
   ]
  },
  {
   "cell_type": "markdown",
   "metadata": {},
   "source": [
    "## Instructions\n",
    "\n",
    "### While Loops\n",
    "\n",
    "Imagine a person named Agnes is finally ready to achieve her dream of becoming a competitive eater! Because the competition is so fierce, she knows she'll need to do lots of training to become number one.\n",
    "\n",
    "Her first regiment of training consists of eating pizza. Below is a for loop version of her training process. Using your knowledge of while loops, translate the pizza eating code below from a for loop to a while loop."
   ]
  },
  {
   "cell_type": "code",
   "execution_count": 2,
   "metadata": {},
   "outputs": [
    {
     "name": "stdout",
     "output_type": "stream",
     "text": [
      "Another slice eaten!\n",
      "Now eaten 1 slices!\n",
      "Another slice eaten!\n",
      "Now eaten 2 slices!\n",
      "Another slice eaten!\n",
      "Now eaten 3 slices!\n",
      "Another slice eaten!\n",
      "Now eaten 4 slices!\n",
      "Another slice eaten!\n",
      "Now eaten 5 slices!\n",
      "Another slice eaten!\n",
      "Now eaten 6 slices!\n"
     ]
    }
   ],
   "source": [
    "slices_of_pie = 6\n",
    "slices_eaten = 0\n",
    "\n",
    "for slice in range(slices_of_pie):\n",
    "    print('Another slice eaten!')\n",
    "    slices_eaten += 1\n",
    "    print('Now eaten {} slices!'.format(slices_eaten))"
   ]
  },
  {
   "cell_type": "code",
   "execution_count": 13,
   "metadata": {},
   "outputs": [
    {
     "name": "stdout",
     "output_type": "stream",
     "text": [
      "Another slice eaten\n",
      "Now eaten 1 slices!\n",
      "Another slice eaten\n",
      "Now eaten 2 slices!\n",
      "Another slice eaten\n",
      "Now eaten 3 slices!\n",
      "Another slice eaten\n",
      "Now eaten 4 slices!\n",
      "Another slice eaten\n",
      "Now eaten 5 slices!\n",
      "Another slice eaten\n",
      "Now eaten 6 slices!\n"
     ]
    }
   ],
   "source": [
    "slices_of_pie = 6\n",
    "slices_eaten = 0\n",
    "while slices_of_pie > 0 and slices_eaten < 6:\n",
    "   print('Another slice eaten')\n",
    "   slices_eaten += 1\n",
    "   print('Now eaten {} slices!'.format(slices_eaten))\n",
    "\n",
    "#print(\"Another slice eaten!\" \"Now eaten\", str(slices_of_pie), \"slices!\")\n",
    "# add your while loop here that achieves the same results as the for loop above"
   ]
  },
  {
   "cell_type": "markdown",
   "metadata": {},
   "source": [
    "After a long night of training with pizza, Agnes sleeps like a rock. When she wakes up in the morning, she realizes that her journey is not over. It has only just begun! In the next cell, continue her training; this time she'll be eating pancakes. None of the pancakes are prepared yet, and she wants to determine how much time she'll have left over after making all the pancakes. Here are the important details:\n",
    "\n",
    "* Agnes has 1468 seconds allotted for breakfast today\n",
    "* Agnes will be making herself 5 pancakes\n",
    "* Each pancake takes 27 seconds to cook on each side\n",
    "* It takes an average of 5 seconds to either flip a pancake, add it or remove it from the pan\n",
    "* There is only room for one pancake at a time on the frying pan\n",
    "* Remember there are two sides to every pancake!  \n",
    "\n",
    "After Agnes cooks the 5 pancakes, how much time will she have left over to eat them? Use a while loop to find out below."
   ]
  },
  {
   "cell_type": "code",
   "execution_count": 24,
   "metadata": {},
   "outputs": [
    {
     "name": "stdout",
     "output_type": "stream",
     "text": [
      "1123\n"
     ]
    }
   ],
   "source": [
    "#Making 5 pancakes (so we need 5 itterations)\n",
    "#Each pancake takes 27 seconds to cook on each side\n",
    "#takes 5 to flip\n",
    "#so one pancake takes (27 * 2 + 5) because two sides to a pancake and the initial pour the flip and the take off\n",
    "#one pancake at a time\n",
    "\n",
    "time_for_breakfast = 1468 # in seconds\n",
    "number_of_cooked_pancakes = 0\n",
    "\n",
    "while number_of_cooked_pancakes < 5 and time_for_breakfast > 0:\n",
    "    number_of_cooked_pancakes += 1\n",
    "    time_for_breakfast -= (27 * 2 + 5 * 3)\n",
    "print(time_for_breakfast)\n",
    "\n",
    "\n",
    "\n",
    "# print out how much time is remaining"
   ]
  },
  {
   "cell_type": "markdown",
   "metadata": {},
   "source": [
    "## For Loops"
   ]
  },
  {
   "cell_type": "markdown",
   "metadata": {},
   "source": [
    "Fast forward 5 years, and Agnes has become an international competitive eating superstar. Using her starpower, she decides to open up a restaurant chain. As part of a promotional deal, at a grand opening, she tells her fans that if they are part of the first 30 people to the restaurant, there is a 50% chance that they'll receive free food. Agnes executes this by giving each of the first 30 people a number ranging from 0-29. All people who have an even number will receive free food, and all those with odd numbers will sadly remain hungry :(. Use a while loop to create two lists below of:\n",
    "\n",
    "* `hungry_patrons`\n",
    "* `fed_patrons`\n",
    "\n",
    "All people will start out in the list of `hungry_patrons`, and only the lucky ones will move to `fed_patrons`.\n",
    "\n",
    "> **Hint:** You may find the [remove method](https://www.programiz.com/python-programming/methods/list/remove) to be useful for the next problem"
   ]
  },
  {
   "cell_type": "code",
   "execution_count": 14,
   "metadata": {},
   "outputs": [
    {
     "name": "stdout",
     "output_type": "stream",
     "text": [
      "those fed: [0, 2, 4, 6, 8, 10, 12, 14, 16, 18, 20, 22, 24, 26, 28]\n",
      "those hungry: [1, 3, 5, 7, 9, 11, 13, 15, 17, 19, 21, 23, 25, 27, 29]\n"
     ]
    }
   ],
   "source": [
    "line_of_hungry_patrons = list(range(0,30))\n",
    "fed_patrons = []\n",
    "\n",
    "numbers = list(range(0,30))\n",
    "new_list = []\n",
    "\n",
    "for line in line_of_hungry_patrons:\n",
    "    if len(fed_patrons) > 30:\n",
    "        print(\"sold out\")\n",
    "        break\n",
    "    elif line % 2 == 0:\n",
    "        fed_patrons.append(line)\n",
    "        line_of_hungry_patrons.remove(line)\n",
    "        continue\n",
    "print(\"those fed:\", fed_patrons)\n",
    "print(\"those hungry:\", line_of_hungry_patrons)\n",
    "\n",
    "# use a for or while loop to feed the hungry patrons who have an even number\n",
    "# add the patrons with an even number to the fed_patrons list\n",
    "# then remove the even numbered patrons from the line_of_hungry_patrons\n",
    "# each list should contain 15 elements\n",
    "#we are adding the fed patrons to the fed_patrons and removing them from the hungry_patrons \n",
    "#so we can see only the unfed ones"
   ]
  },
  {
   "cell_type": "markdown",
   "metadata": {},
   "source": [
    "### `break` And `continue` Statements"
   ]
  },
  {
   "cell_type": "markdown",
   "metadata": {},
   "source": [
    "Agnes decides that she wants to start creating targeted advertisements for people. Here is a list of customer objects with information about their name, age, job, pet, and pet name. You'll use loops to find people that meet certain requirements for Agnes' targeted marketing. Write for loops with conditional statements in conjunction with `break` and `continue` to get the desired output."
   ]
  },
  {
   "cell_type": "code",
   "execution_count": 15,
   "metadata": {},
   "outputs": [],
   "source": [
    "people = [\n",
    "    {'name': \"Daniel\", 'age': 29, 'job': \"Engineer\", 'pet': \"Cat\", 'pet_name': \"Gato\"}, \n",
    "    {'name': \"Katie\", 'age': 30, 'job': \"Teacher\", 'pet': \"Dog\", 'pet_name': \"Frank\"},\n",
    "    {'name': \"Owen\", 'age': 26, 'job': \"Sales person\", 'pet': \"Cat\", 'pet_name': \"Cosmo\"},\n",
    "    {'name': \"Josh\", 'age': 22, 'job': \"Student\", 'pet': \"Cat\", 'pet_name': \"Chat\"},\n",
    "    {'name': \"Estelle\", 'age': 35, 'job': \"French Diplomat\", 'pet': \"Dog\", 'pet_name': \"Gabby\"},\n",
    "    {'name': \"Gustav\", 'age': 24, 'job': \"Brewer\", 'pet': \"Dog\", 'pet_name': \"Helen\"}\n",
    "]"
   ]
  },
  {
   "cell_type": "markdown",
   "metadata": {},
   "source": [
    "Use a for loop to find the first person in the list of people that has a dog as their pet. The iteration count shouldn't exceed 2. In your loop add a print statement that says\n",
    "\n",
    "```python\n",
    " \"{person} has a dog! Had to check {number} of records to find a dog owner.\"\n",
    "\n",
    "```\n",
    "The code has been started for you below"
   ]
  },
  {
   "cell_type": "code",
   "execution_count": 48,
   "metadata": {},
   "outputs": [
    {
     "name": "stdout",
     "output_type": "stream",
     "text": [
      "Katie has a dog! Had to check 2 records to find a dog owner.\n"
     ]
    }
   ],
   "source": [
    "first_dog_person = None\n",
    "iteration_count = 0\n",
    "\n",
    "for person in people:\n",
    "    iteration_count += 1\n",
    "    if person['pet'] == 'Dog':\n",
    "        print('{} has a dog! Had to check {} records to find a dog owner.'.format(person['name'], iteration_count))\n",
    "        break\n",
    "    \n",
    "\n",
    "#names = [\"aNNE\", \"JaNe\", \"willIAM\", \"WanDA\", \"WeSt\", \"HELEN\", \"tHoMaS\", \"HENrY\", \"John\", \"Marshall\", \"May\"]\n",
    "#formatted_names = []\n",
    "#check_count = 0\n",
    "\n",
    "#for name in names:\n",
    "    #if name.startswith('w') or name.startswith(\"W\"):\n",
    "        #check_count += 1\n",
    "        #continue\n",
    "    #elif len(formatted_names) >= 4:\n",
    "        #check_count += 1\n",
    "        #break\n",
    "    #else:\n",
    "        #formatted_names.append(name.title())\n",
    "\n",
    "#print(\"before\", names)\n",
    "#print(\"after\", formatted_names)\n",
    "#print(check_count)"
   ]
  },
  {
   "cell_type": "raw",
   "metadata": {},
   "source": [
    "Now, use a for loop to create a list of all the cat owners who are under the age of 28."
   ]
  },
  {
   "cell_type": "code",
   "execution_count": 88,
   "metadata": {},
   "outputs": [
    {
     "name": "stdout",
     "output_type": "stream",
     "text": [
      "Owen has a cat and is under 28.\n",
      "Josh has a cat and is under 28.\n"
     ]
    },
    {
     "data": {
      "text/plain": [
       "[{'name': 'Owen',\n",
       "  'age': 26,\n",
       "  'job': 'Sales person',\n",
       "  'pet': 'Cat',\n",
       "  'pet_name': 'Cosmo'},\n",
       " {'name': 'Josh',\n",
       "  'age': 22,\n",
       "  'job': 'Student',\n",
       "  'pet': 'Cat',\n",
       "  'pet_name': 'Chat'}]"
      ]
     },
     "execution_count": 88,
     "metadata": {},
     "output_type": "execute_result"
    }
   ],
   "source": [
    "cat_owners = []\n",
    "for person in people:\n",
    "    if person['pet'] == 'Cat' and person['age'] <= 28:\n",
    "        cat_owners.append(person)\n",
    "        print('{} has a cat and is under 28.'.format(person['name']))\n",
    "cat_owners\n"
   ]
  },
  {
   "cell_type": "markdown",
   "metadata": {},
   "source": [
    "Use a for loop to find the first person who is above 29 years old. Use a print statement to state their name and how old they are."
   ]
  },
  {
   "cell_type": "code",
   "execution_count": 78,
   "metadata": {},
   "outputs": [
    {
     "name": "stdout",
     "output_type": "stream",
     "text": [
      "Katie, 30 is over 29!\n"
     ]
    }
   ],
   "source": [
    "thirty_something_yr_old\n",
    "for person in people:\n",
    "    itteration_count += 1\n",
    "    if person['age'] > 29:\n",
    "        print('{}, {} is over 29!'.format(person['name'],format(person['age'])))\n",
    "        break"
   ]
  },
  {
   "cell_type": "markdown",
   "metadata": {},
   "source": [
    "Use a for loop to create a list of people's names and another list of pet names for all the **dog owners**."
   ]
  },
  {
   "cell_type": "code",
   "execution_count": 94,
   "metadata": {},
   "outputs": [
    {
     "name": "stdout",
     "output_type": "stream",
     "text": [
      "Katie owns Frank\n",
      "Estelle owns Gabby\n",
      "Gustav owns Helen\n"
     ]
    }
   ],
   "source": [
    "dog_owner_names = []\n",
    "dog_names = []\n",
    "for person in people:\n",
    "    if person['pet'] == 'Dog':\n",
    "        dog_owner_names.append(person)\n",
    "        print('{} owns {}'.format(person['name'],format(person['pet_name'])))\n",
    "# for loop goes here\n"
   ]
  },
  {
   "cell_type": "markdown",
   "metadata": {},
   "source": [
    "## Level Up \n",
    "Use a for loop to create a list of odd numbers from the list of numbers from 0 to 100. Each time there is an odd number, add 10 to it and append it to the list_of_odd_numbers_plus_ten. Stop adding numbers to the list when there are 35 numbers in it. Once you have reached 35 numbers, return the sum of the new list of numbers."
   ]
  },
  {
   "cell_type": "code",
   "execution_count": 113,
   "metadata": {},
   "outputs": [
    {
     "name": "stdout",
     "output_type": "stream",
     "text": [
      "Sum: 11\n"
     ]
    }
   ],
   "source": [
    "# use break and continue statements in your code\n",
    "list_of_numbers = list(range(0,100))\n",
    "list_of_odd_numbers_plus_ten = []\n",
    "for number in list_of_numbers:\n",
    "    if number % 2 == 1:\n",
    "        list_of_odd_numbers_plus_ten.append(number + 10)\n",
    "        break\n",
    "    else:\n",
    "        pass\n",
    "    if len(list_of_odd_numbers_plus_ten) >= 35:\n",
    "        break\n",
    "    else:\n",
    "        continue\n",
    "\n",
    "list_of_odd_numbers_plus_ten\n",
    "\n",
    "print('Sum:', sum(list_of_odd_numbers_plus_ten))\n",
    "\n",
    "list_of_numbers = list(range(0,100))\n",
    "list_of_odd_numbers_plus_ten = []\n",
    "for number in list_of_numbers:\n",
    "    if number % 2 == 1:\n",
    "        list_of_odd_numbers_plus_ten.append(number+10)\n",
    "    else:\n",
    "        pass\n",
    "    if len(list_of_odd_numbers_plus_ten) >= 35:\n",
    "        break\n",
    "    else:\n",
    "        continue"
   ]
  },
  {
   "cell_type": "markdown",
   "metadata": {},
   "source": [
    "## Summary"
   ]
  },
  {
   "cell_type": "markdown",
   "metadata": {},
   "source": [
    "In this lab, we practiced using while loops, which continue executing their block of code until the given condition is no longer truthy. This is useful for instances where we do not have a collection or do not need a collection to solve our problem, especially when we would only like to stop the process according to a certain condition. We then practiced using control flow statements, `break` and `continue`, to selectively operate on elements, append them to new lists, or assign them to new variables."
   ]
  }
 ],
 "metadata": {
  "kernelspec": {
   "display_name": "Python 3",
   "language": "python",
   "name": "python3"
  },
  "language_info": {
   "codemirror_mode": {
    "name": "ipython",
    "version": 3
   },
   "file_extension": ".py",
   "mimetype": "text/x-python",
   "name": "python",
   "nbconvert_exporter": "python",
   "pygments_lexer": "ipython3",
   "version": "3.6.6"
  }
 },
 "nbformat": 4,
 "nbformat_minor": 2
}
